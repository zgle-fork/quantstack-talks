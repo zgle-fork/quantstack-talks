{
 "cells": [
  {
   "cell_type": "markdown",
   "metadata": {},
   "source": [
    "<center><img src=\"src/ipyleaflet.svg\" width=\"50%\"></center>"
   ]
  },
  {
   "cell_type": "markdown",
   "metadata": {},
   "source": [
    "# Repository: https://github.com/jupyter-widgets/ipyleaflet\n",
    "# Installation:\n",
    "`conda install -c conda-forge ipyleaflet`"
   ]
  },
  {
   "cell_type": "markdown",
   "metadata": {},
   "source": [
    "# Base map"
   ]
  },
  {
   "cell_type": "code",
   "execution_count": 9,
   "metadata": {},
   "outputs": [],
   "source": [
    "from ipyleaflet import Map, basemaps, basemap_to_tiles"
   ]
  },
  {
   "cell_type": "code",
   "execution_count": 10,
   "metadata": {},
   "outputs": [
    {
     "data": {
      "application/vnd.jupyter.widget-view+json": {
       "model_id": "d53374f83bb34f86837f3f56a378d09c",
       "version_major": 2,
       "version_minor": 0
      },
      "text/plain": [
       "Map(center=[52.204793, 360.121558], controls=(ZoomControl(options=['position', 'zoom_in_text', 'zoom_in_title'…"
      ]
     },
     "metadata": {},
     "output_type": "display_data"
    }
   ],
   "source": [
    "center = (52.204793, 360.121558)\n",
    "\n",
    "m = Map(\n",
    "    layers=(basemap_to_tiles(basemaps.NASAGIBS.ModisTerraTrueColorCR, \"2018-11-12\"), ),\n",
    "    center=center,\n",
    "    zoom=4\n",
    ")\n",
    "\n",
    "m"
   ]
  },
  {
   "cell_type": "markdown",
   "metadata": {},
   "source": [
    "# Layers\n",
    "## Marker"
   ]
  },
  {
   "cell_type": "code",
   "execution_count": 11,
   "metadata": {},
   "outputs": [],
   "source": [
    "from ipyleaflet import Marker, Icon\n",
    "\n",
    "icon = Icon(icon_url='https://leafletjs.com/examples/custom-icons/leaf-red.png', icon_size=[38, 95], icon_anchor=[22,94])\n",
    "mark = Marker(location=center, icon=icon, rotation_origin='22px 94px')\n",
    "\n",
    "m.add_layer(mark)"
   ]
  },
  {
   "cell_type": "code",
   "execution_count": 12,
   "metadata": {},
   "outputs": [],
   "source": [
    "import time\n",
    "\n",
    "for _ in range(40):\n",
    "    mark.rotation_angle += 15\n",
    "    time.sleep(0.1)"
   ]
  },
  {
   "cell_type": "markdown",
   "metadata": {},
   "source": [
    "<center><img src=\"src/jupyterlab-sidecar.svg\" width=\"50%\"></center>"
   ]
  },
  {
   "cell_type": "markdown",
   "metadata": {},
   "source": [
    "# Repository: https://github.com/jupyter-widgets/jupyterlab-sidecar\n",
    "# Installation:\n",
    "`pip install jupyterlab_sidecar`"
   ]
  },
  {
   "cell_type": "code",
   "execution_count": 13,
   "metadata": {},
   "outputs": [],
   "source": [
    "from sidecar import Sidecar\n",
    "from IPython.display import display"
   ]
  },
  {
   "cell_type": "code",
   "execution_count": 14,
   "metadata": {},
   "outputs": [
    {
     "data": {
      "application/vnd.jupyter.widget-view+json": {
       "model_id": "d53374f83bb34f86837f3f56a378d09c",
       "version_major": 2,
       "version_minor": 0
      },
      "text/plain": [
       "Map(center=[52.204793, 360.121558], controls=(ZoomControl(options=['position', 'zoom_in_text', 'zoom_in_title'…"
      ]
     },
     "metadata": {},
     "output_type": "display_data"
    }
   ],
   "source": [
    "sc = Sidecar(title='Map widget')\n",
    "\n",
    "with sc:\n",
    "    display(m)"
   ]
  },
  {
   "cell_type": "markdown",
   "metadata": {},
   "source": [
    "## Heatmap layer"
   ]
  },
  {
   "cell_type": "code",
   "execution_count": 15,
   "metadata": {},
   "outputs": [],
   "source": [
    "from ipywidgets import Button, IntSlider, link\n",
    "from ipyleaflet import Heatmap\n",
    "from random import gauss\n",
    "import time"
   ]
  },
  {
   "cell_type": "code",
   "execution_count": 16,
   "metadata": {},
   "outputs": [],
   "source": [
    "center = (37.09, -103.66)\n",
    "zoom = 5"
   ]
  },
  {
   "cell_type": "code",
   "execution_count": 17,
   "metadata": {},
   "outputs": [],
   "source": [
    "def create_random_data(length):\n",
    "    \"Return a list of some random lat/lon/value triples.\"\n",
    "    return [[gauss(center[0], 2), \n",
    "             gauss(center[1], 4),\n",
    "             gauss(700, 300)] for i in range(length)]"
   ]
  },
  {
   "cell_type": "code",
   "execution_count": 18,
   "metadata": {},
   "outputs": [],
   "source": [
    "m.center = center\n",
    "m.zoom = zoom"
   ]
  },
  {
   "cell_type": "code",
   "execution_count": 19,
   "metadata": {},
   "outputs": [],
   "source": [
    "heat = Heatmap(locations=create_random_data(1000), radius=20, blur=10)\n",
    "m.add_layer(heat)"
   ]
  },
  {
   "cell_type": "code",
   "execution_count": 20,
   "metadata": {},
   "outputs": [
    {
     "data": {
      "application/vnd.jupyter.widget-view+json": {
       "model_id": "96bad854f46f435bbbaa990bfa0bfc95",
       "version_major": 2,
       "version_minor": 0
      },
      "text/plain": [
       "Button(button_style='success', description='Generate data', style=ButtonStyle())"
      ]
     },
     "metadata": {},
     "output_type": "display_data"
    }
   ],
   "source": [
    "def generate(_):\n",
    "    heat.locations = create_random_data(1000)\n",
    "\n",
    "button = Button(description='Generate data', button_style='success')\n",
    "button.on_click(generate)\n",
    "button"
   ]
  },
  {
   "cell_type": "code",
   "execution_count": 21,
   "metadata": {},
   "outputs": [
    {
     "data": {
      "application/vnd.jupyter.widget-view+json": {
       "model_id": "2c5016a59f9b446e9e4b5f68f99b5126",
       "version_major": 2,
       "version_minor": 0
      },
      "text/plain": [
       "IntSlider(value=20, max=30, min=10)"
      ]
     },
     "metadata": {},
     "output_type": "display_data"
    }
   ],
   "source": [
    "slider = IntSlider(min=10, max=30, value=heat.radius)\n",
    "link((slider, 'value'), (heat, 'radius'))\n",
    "slider"
   ]
  },
  {
   "cell_type": "markdown",
   "metadata": {},
   "source": [
    "## Velocity"
   ]
  },
  {
   "cell_type": "code",
   "execution_count": 22,
   "metadata": {},
   "outputs": [],
   "source": [
    "import xarray as xr\n",
    "from ipyleaflet.velocity import Velocity"
   ]
  },
  {
   "cell_type": "code",
   "execution_count": 23,
   "metadata": {},
   "outputs": [],
   "source": [
    "# from ipyleaflet import Velocity\n",
    "# import xarray as xr"
   ]
  },
  {
   "cell_type": "code",
   "execution_count": 24,
   "metadata": {},
   "outputs": [
    {
     "data": {
      "application/vnd.jupyter.widget-view+json": {
       "model_id": "9179a17b0e334d149c39754a4b48063a",
       "version_major": 2,
       "version_minor": 0
      },
      "text/plain": [
       "Map(center=[0, 0], controls=(ZoomControl(options=['position', 'zoom_in_text', 'zoom_in_title', 'zoom_out_text'…"
      ]
     },
     "metadata": {},
     "output_type": "display_data"
    }
   ],
   "source": [
    "center = (0, 0)\n",
    "zoom = 4\n",
    "\n",
    "m2 = Map(center=center, zoom=zoom, interpolation='nearest', basemap=basemaps.CartoDB.DarkMatter)\n",
    "\n",
    "sc2 = Sidecar(title='Map Velocity')\n",
    "\n",
    "with sc2:\n",
    "    display(m2)"
   ]
  },
  {
   "cell_type": "code",
   "execution_count": 27,
   "metadata": {},
   "outputs": [],
   "source": [
    "ds = xr.open_dataset('src/wind-global.nc')\n",
    "display_options = {\n",
    "    'velocityType': 'Global Wind',\n",
    "    'displayPosition': 'bottomleft',\n",
    "    'displayEmptyString': 'No wind data'\n",
    "}\n",
    "wind = Velocity(data=ds,\n",
    "                zonal_speed='u_wind',\n",
    "                meridional_speed='v_wind',\n",
    "                latitude_dimension='lat',\n",
    "                longitude_dimension='lon',\n",
    "                velocity_scale=0.01,\n",
    "                max_velocity=20,\n",
    "                display_options=display_options)\n",
    "m2.add_layer(wind)"
   ]
  },
  {
   "cell_type": "markdown",
   "metadata": {},
   "source": [
    "# Controls"
   ]
  },
  {
   "cell_type": "code",
   "execution_count": 29,
   "metadata": {},
   "outputs": [
    {
     "data": {
      "application/vnd.jupyter.widget-view+json": {
       "model_id": "8deed367d66e476990c66ecbca42ab15",
       "version_major": 2,
       "version_minor": 0
      },
      "text/plain": [
       "Map(center=[42.6824, 365.581], controls=(ZoomControl(options=['position', 'zoom_in_text', 'zoom_in_title', 'zo…"
      ]
     },
     "metadata": {},
     "output_type": "display_data"
    }
   ],
   "source": [
    "from ipyleaflet import Map, basemaps, basemap_to_tiles, SplitMapControl\n",
    "\n",
    "m = Map(center=(42.6824, 365.581), zoom=5)\n",
    "\n",
    "right_layer = basemap_to_tiles(basemaps.NASAGIBS.ModisTerraTrueColorCR, \"2017-11-11\")\n",
    "left_layer = basemap_to_tiles(basemaps.NASAGIBS.ModisAquaBands721CR, \"2017-11-11\")\n",
    "\n",
    "control = SplitMapControl(left_layer=left_layer, right_layer=right_layer)\n",
    "m.add_control(control)\n",
    "\n",
    "m"
   ]
  },
  {
   "cell_type": "markdown",
   "metadata": {},
   "source": [
    "## Plays well with other widgets libraries"
   ]
  },
  {
   "cell_type": "code",
   "execution_count": 30,
   "metadata": {},
   "outputs": [],
   "source": [
    "import numpy as np\n",
    "import bqplot.pyplot as plt\n",
    "from bqplot import *\n",
    "from traitlets import observe\n",
    "from sidecar import Sidecar\n",
    "from ipywidgets import VBox, Button\n",
    "from ipyleaflet import Map, Marker, Popup"
   ]
  },
  {
   "cell_type": "code",
   "execution_count": 31,
   "metadata": {},
   "outputs": [
    {
     "data": {
      "application/vnd.jupyter.widget-view+json": {
       "model_id": "442947225d784bca8e369014fef91a4a",
       "version_major": 2,
       "version_minor": 0
      },
      "text/plain": [
       "Figure(animation_duration=1000, axes=[Axis(label='x', scale=LinearScale()), Axis(label='y', orientation='verti…"
      ]
     },
     "metadata": {},
     "output_type": "display_data"
    }
   ],
   "source": [
    "axes_options = {'x': {'label': 'x'}, 'y': {'label': 'y'}}\n",
    "\n",
    "x = np.arange(40)\n",
    "y = np.cumsum(np.random.randn(2, 40), axis=1)\n",
    "\n",
    "fig = plt.figure(animation_duration=1000)\n",
    "lines = plt.plot(x=x, y=y, colors=['red', 'green'], axes_options=axes_options)\n",
    "\n",
    "def generate(_):\n",
    "    lines.y = np.cumsum(np.random.randn(2, 40), axis=1)\n",
    "\n",
    "button = Button(description='Generate data', button_style='success')\n",
    "button.on_click(generate)\n",
    "\n",
    "box_plot = VBox([fig, button])\n",
    "\n",
    "fig"
   ]
  },
  {
   "cell_type": "code",
   "execution_count": 32,
   "metadata": {},
   "outputs": [
    {
     "data": {
      "application/vnd.jupyter.widget-view+json": {
       "model_id": "000d3f12808946f3b0c7fca4ae1d0e90",
       "version_major": 2,
       "version_minor": 0
      },
      "text/plain": [
       "Map(center=[52.204793, 360.121558], close_popup_on_click=False, controls=(ZoomControl(options=['position', 'zo…"
      ]
     },
     "metadata": {},
     "output_type": "display_data"
    }
   ],
   "source": [
    "center = (52.204793, 360.121558)\n",
    "\n",
    "m = Map(center=center, zoom=9, close_popup_on_click=False)\n",
    "\n",
    "marker = Marker(location=(52.1, 359.9))\n",
    "m.add_layer(marker)\n",
    "\n",
    "marker.popup = box_plot\n",
    "\n",
    "sc = Sidecar(title='Map and bqplot')\n",
    "\n",
    "with sc:\n",
    "    display(m)"
   ]
  },
  {
   "cell_type": "markdown",
   "metadata": {},
   "source": [
    "### Clean"
   ]
  },
  {
   "cell_type": "code",
   "execution_count": null,
   "metadata": {},
   "outputs": [],
   "source": [
    "from ipywidgets import Widget\n",
    "Widget.close_all()"
   ]
  },
  {
   "cell_type": "markdown",
   "metadata": {},
   "source": [
    "## Example: ipyleaflet application using qgrid and bqplot"
   ]
  },
  {
   "cell_type": "markdown",
   "metadata": {},
   "source": [
    "<center><video src=\"src/video_davide_de_marchi.mp4\" width=\"50%\" controls=\"true\"></center>"
   ]
  }
 ],
 "metadata": {
  "kernelspec": {
   "display_name": "Python [conda env:py373-cv341] *",
   "language": "python",
   "name": "conda-env-py373-cv341-py"
  },
  "language_info": {
   "codemirror_mode": {
    "name": "ipython",
    "version": 3
   },
   "file_extension": ".py",
   "mimetype": "text/x-python",
   "name": "python",
   "nbconvert_exporter": "python",
   "pygments_lexer": "ipython3",
   "version": "3.7.3"
  }
 },
 "nbformat": 4,
 "nbformat_minor": 4
}
